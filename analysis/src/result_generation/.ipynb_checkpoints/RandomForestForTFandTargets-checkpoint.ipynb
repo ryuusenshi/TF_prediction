{
 "cells": [
  {
   "cell_type": "code",
   "execution_count": 1,
   "metadata": {},
   "outputs": [],
   "source": [
    "import pandas as pd\n",
    "import numpy as np\n",
    "from sklearn.ensemble import RandomForestRegressor\n",
    "from sklearn.model_selection import train_test_split\n",
    "from sklearn.model_selection import KFold"
   ]
  },
  {
   "cell_type": "code",
   "execution_count": 2,
   "metadata": {},
   "outputs": [],
   "source": [
    "np.random.seed(1000)"
   ]
  },
  {
   "cell_type": "code",
   "execution_count": 3,
   "metadata": {},
   "outputs": [],
   "source": [
    "TF_SNP_count = pd.read_csv(\"../../../data/product/tf_snp_count.csv\")"
   ]
  },
  {
   "cell_type": "code",
   "execution_count": 4,
   "metadata": {},
   "outputs": [],
   "source": [
    "expression_matrix = pd.read_csv(\"../../../data/expression_matrix.txt\", delimiter='\\t')"
   ]
  },
  {
   "cell_type": "code",
   "execution_count": 5,
   "metadata": {},
   "outputs": [],
   "source": [
    "target_expression = pd.read_csv(\"../expression_matrix_tf_targets_only.csv\", header=0)\n",
    "target_expression_matrix = target_expression.set_index('CONDITION')"
   ]
  },
  {
   "cell_type": "code",
   "execution_count": 6,
   "metadata": {},
   "outputs": [],
   "source": [
    "#genotype_marix = pd.read_csv(\"../matrix_genotypes.csv\")"
   ]
  },
  {
   "cell_type": "code",
   "execution_count": 7,
   "metadata": {},
   "outputs": [],
   "source": [
    "TF = TF_SNP_count.iloc[0:49,]"
   ]
  },
  {
   "cell_type": "code",
   "execution_count": 8,
   "metadata": {},
   "outputs": [],
   "source": [
    "TF_expression_matrix = expression_matrix.iloc[TF['ID'],].T.drop('ID').apply(lambda x: x.fillna(x.mean()), axis=0)"
   ]
  },
  {
   "cell_type": "code",
   "execution_count": 9,
   "metadata": {},
   "outputs": [],
   "source": [
    "TF_RF = RandomForestRegressor(max_depth=10, n_estimators=2000, n_jobs=-1)"
   ]
  },
  {
   "cell_type": "code",
   "execution_count": 10,
   "metadata": {},
   "outputs": [
    {
     "data": {
      "text/plain": [
       "10"
      ]
     },
     "execution_count": 10,
     "metadata": {},
     "output_type": "execute_result"
    }
   ],
   "source": [
    "kf = KFold(n_splits=10, shuffle=True)\n",
    "kf.get_n_splits(TF_expression_matrix)"
   ]
  },
  {
   "cell_type": "code",
   "execution_count": 11,
   "metadata": {},
   "outputs": [
    {
     "name": "stdout",
     "output_type": "stream",
     "text": [
      "0.1318970908703989\n",
      "0.051126628213334406\n",
      "0.07293258027861217\n",
      "0.18459438973113002\n",
      "0.1247737988126436\n",
      "0.03150094872774459\n",
      "0.18493124406250847\n",
      "0.08333879357816455\n",
      "0.0010552044183511744\n",
      "0.10602827207779808\n"
     ]
    }
   ],
   "source": [
    "RF_score = []\n",
    "for train_index, test_index in kf.split(TF_expression_matrix):\n",
    "    X_train, X_test = TF_expression_matrix.iloc[train_index], TF_expression_matrix.iloc[test_index]\n",
    "    y_train, y_test = target_expression_matrix.iloc[train_index], target_expression_matrix.iloc[test_index]\n",
    "    TF_RF.fit(X_train, y_train)\n",
    "    print(TF_RF.score(X_test,y_test))\n",
    "    RF_score.append(TF_RF.score(X_test,y_test))\n"
   ]
  },
  {
   "cell_type": "code",
   "execution_count": 19,
   "metadata": {},
   "outputs": [
    {
     "data": {
      "text/plain": [
       "0.0972178950770686"
      ]
     },
     "execution_count": 19,
     "metadata": {},
     "output_type": "execute_result"
    }
   ],
   "source": [
    "sum(RF_score)/10"
   ]
  },
  {
   "cell_type": "code",
   "execution_count": 16,
   "metadata": {},
   "outputs": [],
   "source": [
    "# Train new regressor with unique SNPs within TFs added as input\n",
    "#\n",
    "#"
   ]
  },
  {
   "cell_type": "code",
   "execution_count": 12,
   "metadata": {},
   "outputs": [],
   "source": [
    "np.random.seed(1000)"
   ]
  },
  {
   "cell_type": "code",
   "execution_count": 13,
   "metadata": {},
   "outputs": [],
   "source": [
    "matrix_genotypes_hotcoded_snps = pd.read_csv(\"../matrix_genotypes_hotcoded_snps_collapsed.csv\")"
   ]
  },
  {
   "cell_type": "code",
   "execution_count": 14,
   "metadata": {},
   "outputs": [],
   "source": [
    "genotypes_hotcoded_snps = matrix_genotypes_hotcoded_snps.set_index('CONDITION')"
   ]
  },
  {
   "cell_type": "code",
   "execution_count": 15,
   "metadata": {},
   "outputs": [
    {
     "name": "stdout",
     "output_type": "stream",
     "text": [
      "Index(['1_1_d', '1_3_d', '1_4_d', '1_5_c', '2_2_d', '2_3_d', '2_4_a', '2_5_d',\n",
      "       '2_6_d', '3_1_d',\n",
      "       ...\n",
      "       '22_4_d', '22_5_d', '23_3_d', '23_5_d', '24_1_d', '25_1_d', '25_3_d',\n",
      "       '25_4_d', '26_1_d', '26_2_d'],\n",
      "      dtype='object', length=112)\n",
      "Index(['1_1_d', '1_3_d', '1_4_d', '1_5_c', '2_2_d', '2_3_d', '2_4_a', '2_5_d',\n",
      "       '2_6_d', '3_1_d',\n",
      "       ...\n",
      "       '22_4_d', '22_5_d', '23_3_d', '23_5_d', '24_1_d', '25_1_d', '25_3_d',\n",
      "       '25_4_d', '26_1_d', '26_2_d'],\n",
      "      dtype='object', length=112)\n"
     ]
    }
   ],
   "source": [
    "TF_SNP = pd.concat([TF_expression_matrix, genotypes_hotcoded_snps], axis=1).reindex(TF_expression_matrix.index)\n",
    "print(TF_expression_matrix.index)\n",
    "print(TF_SNP.index)"
   ]
  },
  {
   "cell_type": "code",
   "execution_count": 16,
   "metadata": {},
   "outputs": [],
   "source": [
    "TF_SNP_RF = RandomForestRegressor(max_depth=10, n_estimators=2000, n_jobs=-1)"
   ]
  },
  {
   "cell_type": "code",
   "execution_count": 17,
   "metadata": {},
   "outputs": [],
   "source": [
    "#kf2 = KFold(n_splits=10, shuffle=True)\n",
    "#kf2.get_n_splits(TF_SNP)\n",
    "kf2 = kf"
   ]
  },
  {
   "cell_type": "code",
   "execution_count": 18,
   "metadata": {},
   "outputs": [
    {
     "name": "stdout",
     "output_type": "stream",
     "text": [
      "0.12584596469969042\n",
      "0.0445774845008279\n",
      "0.07238889290263249\n",
      "0.18216710293217922\n",
      "0.12838042668687555\n",
      "0.031868143415531805\n",
      "0.1763274656051975\n",
      "0.08765567508125846\n",
      "-0.00015184226222712466\n",
      "0.10058222957086614\n"
     ]
    }
   ],
   "source": [
    "TF_SNP_RF_score = []\n",
    "\n",
    "importances = []\n",
    "for train_index2, test_index2 in kf2.split(TF_SNP):\n",
    "    X_train2, X_test2 = TF_SNP.iloc[train_index2], TF_SNP.iloc[test_index2]\n",
    "    y_train2, y_test2 = target_expression_matrix.iloc[train_index2], target_expression_matrix.iloc[test_index2]\n",
    "    TF_SNP_RF.fit(X_train2, y_train2)\n",
    "    print(TF_SNP_RF.score(X_test2,y_test2))\n",
    "    TF_SNP_RF_score.append(TF_SNP_RF.score(X_test2,y_test2))\n",
    "    importances.append(TF_SNP_RF.feature_importances_)"
   ]
  },
  {
   "cell_type": "code",
   "execution_count": 20,
   "metadata": {},
   "outputs": [
    {
     "data": {
      "text/plain": [
       "0.09496415431328324"
      ]
     },
     "execution_count": 20,
     "metadata": {},
     "output_type": "execute_result"
    }
   ],
   "source": [
    "sum(TF_SNP_RF_score)/10"
   ]
  },
  {
   "cell_type": "code",
   "execution_count": 21,
   "metadata": {},
   "outputs": [],
   "source": [
    "df = pd.DataFrame(data=importances, columns=TF_SNP.columns.values)\n",
    "\n",
    "df.to_csv('rf_importances.csv', index=False)"
   ]
  },
  {
   "cell_type": "code",
   "execution_count": 22,
   "metadata": {},
   "outputs": [
    {
     "data": {
      "text/html": [
       "<div>\n",
       "<style scoped>\n",
       "    .dataframe tbody tr th:only-of-type {\n",
       "        vertical-align: middle;\n",
       "    }\n",
       "\n",
       "    .dataframe tbody tr th {\n",
       "        vertical-align: top;\n",
       "    }\n",
       "\n",
       "    .dataframe thead th {\n",
       "        text-align: right;\n",
       "    }\n",
       "</style>\n",
       "<table border=\"1\" class=\"dataframe\">\n",
       "  <thead>\n",
       "    <tr style=\"text-align: right;\">\n",
       "      <th></th>\n",
       "      <th>5513</th>\n",
       "      <th>78</th>\n",
       "      <th>4414</th>\n",
       "      <th>336</th>\n",
       "      <th>4442</th>\n",
       "      <th>64</th>\n",
       "      <th>1677</th>\n",
       "      <th>2394</th>\n",
       "      <th>2283</th>\n",
       "      <th>1925</th>\n",
       "      <th>...</th>\n",
       "      <th>SNP_2464_2</th>\n",
       "      <th>SNP_2516_0</th>\n",
       "      <th>SNP_2516_1</th>\n",
       "      <th>SNP_2516_2</th>\n",
       "      <th>SNP_81_0</th>\n",
       "      <th>SNP_81_1</th>\n",
       "      <th>SNP_81_2</th>\n",
       "      <th>SNP_1643_0</th>\n",
       "      <th>SNP_1643_1</th>\n",
       "      <th>SNP_1643_2</th>\n",
       "    </tr>\n",
       "  </thead>\n",
       "  <tbody>\n",
       "    <tr>\n",
       "      <th>0</th>\n",
       "      <td>0.013135</td>\n",
       "      <td>0.012125</td>\n",
       "      <td>0.015394</td>\n",
       "      <td>0.011213</td>\n",
       "      <td>0.016325</td>\n",
       "      <td>0.013867</td>\n",
       "      <td>0.011185</td>\n",
       "      <td>0.010275</td>\n",
       "      <td>0.012572</td>\n",
       "      <td>0.016274</td>\n",
       "      <td>...</td>\n",
       "      <td>0.000245</td>\n",
       "      <td>0.002319</td>\n",
       "      <td>0.002410</td>\n",
       "      <td>0.000124</td>\n",
       "      <td>0.002245</td>\n",
       "      <td>0.002137</td>\n",
       "      <td>0.000511</td>\n",
       "      <td>0.002204</td>\n",
       "      <td>0.002185</td>\n",
       "      <td>0.003142</td>\n",
       "    </tr>\n",
       "    <tr>\n",
       "      <th>1</th>\n",
       "      <td>0.014232</td>\n",
       "      <td>0.011359</td>\n",
       "      <td>0.021595</td>\n",
       "      <td>0.010525</td>\n",
       "      <td>0.016246</td>\n",
       "      <td>0.013462</td>\n",
       "      <td>0.012946</td>\n",
       "      <td>0.011482</td>\n",
       "      <td>0.013518</td>\n",
       "      <td>0.016387</td>\n",
       "      <td>...</td>\n",
       "      <td>0.000178</td>\n",
       "      <td>0.002137</td>\n",
       "      <td>0.002187</td>\n",
       "      <td>0.000148</td>\n",
       "      <td>0.002448</td>\n",
       "      <td>0.003154</td>\n",
       "      <td>0.000393</td>\n",
       "      <td>0.002229</td>\n",
       "      <td>0.002061</td>\n",
       "      <td>0.001868</td>\n",
       "    </tr>\n",
       "    <tr>\n",
       "      <th>2</th>\n",
       "      <td>0.013544</td>\n",
       "      <td>0.012103</td>\n",
       "      <td>0.017741</td>\n",
       "      <td>0.012094</td>\n",
       "      <td>0.015870</td>\n",
       "      <td>0.014391</td>\n",
       "      <td>0.012534</td>\n",
       "      <td>0.009937</td>\n",
       "      <td>0.015123</td>\n",
       "      <td>0.015721</td>\n",
       "      <td>...</td>\n",
       "      <td>0.000211</td>\n",
       "      <td>0.002244</td>\n",
       "      <td>0.002288</td>\n",
       "      <td>0.000130</td>\n",
       "      <td>0.002878</td>\n",
       "      <td>0.002446</td>\n",
       "      <td>0.000374</td>\n",
       "      <td>0.002048</td>\n",
       "      <td>0.002438</td>\n",
       "      <td>0.001714</td>\n",
       "    </tr>\n",
       "    <tr>\n",
       "      <th>3</th>\n",
       "      <td>0.013847</td>\n",
       "      <td>0.012545</td>\n",
       "      <td>0.015872</td>\n",
       "      <td>0.011949</td>\n",
       "      <td>0.016493</td>\n",
       "      <td>0.013771</td>\n",
       "      <td>0.013841</td>\n",
       "      <td>0.010467</td>\n",
       "      <td>0.014662</td>\n",
       "      <td>0.012808</td>\n",
       "      <td>...</td>\n",
       "      <td>0.000193</td>\n",
       "      <td>0.002273</td>\n",
       "      <td>0.002145</td>\n",
       "      <td>0.000124</td>\n",
       "      <td>0.002490</td>\n",
       "      <td>0.002566</td>\n",
       "      <td>0.000516</td>\n",
       "      <td>0.002188</td>\n",
       "      <td>0.002258</td>\n",
       "      <td>0.002147</td>\n",
       "    </tr>\n",
       "    <tr>\n",
       "      <th>4</th>\n",
       "      <td>0.010348</td>\n",
       "      <td>0.012927</td>\n",
       "      <td>0.014764</td>\n",
       "      <td>0.012095</td>\n",
       "      <td>0.013901</td>\n",
       "      <td>0.014478</td>\n",
       "      <td>0.012647</td>\n",
       "      <td>0.011731</td>\n",
       "      <td>0.012873</td>\n",
       "      <td>0.015781</td>\n",
       "      <td>...</td>\n",
       "      <td>0.000000</td>\n",
       "      <td>0.002312</td>\n",
       "      <td>0.002153</td>\n",
       "      <td>0.000000</td>\n",
       "      <td>0.002421</td>\n",
       "      <td>0.002595</td>\n",
       "      <td>0.000543</td>\n",
       "      <td>0.002216</td>\n",
       "      <td>0.002278</td>\n",
       "      <td>0.001218</td>\n",
       "    </tr>\n",
       "    <tr>\n",
       "      <th>5</th>\n",
       "      <td>0.013016</td>\n",
       "      <td>0.011839</td>\n",
       "      <td>0.015482</td>\n",
       "      <td>0.011442</td>\n",
       "      <td>0.015425</td>\n",
       "      <td>0.011270</td>\n",
       "      <td>0.012724</td>\n",
       "      <td>0.011116</td>\n",
       "      <td>0.012855</td>\n",
       "      <td>0.014667</td>\n",
       "      <td>...</td>\n",
       "      <td>0.000223</td>\n",
       "      <td>0.002117</td>\n",
       "      <td>0.002337</td>\n",
       "      <td>0.000172</td>\n",
       "      <td>0.002588</td>\n",
       "      <td>0.002086</td>\n",
       "      <td>0.000570</td>\n",
       "      <td>0.002001</td>\n",
       "      <td>0.002284</td>\n",
       "      <td>0.002762</td>\n",
       "    </tr>\n",
       "    <tr>\n",
       "      <th>6</th>\n",
       "      <td>0.014364</td>\n",
       "      <td>0.012521</td>\n",
       "      <td>0.016390</td>\n",
       "      <td>0.012819</td>\n",
       "      <td>0.015011</td>\n",
       "      <td>0.013701</td>\n",
       "      <td>0.010983</td>\n",
       "      <td>0.012244</td>\n",
       "      <td>0.013479</td>\n",
       "      <td>0.013346</td>\n",
       "      <td>...</td>\n",
       "      <td>0.000116</td>\n",
       "      <td>0.002287</td>\n",
       "      <td>0.002293</td>\n",
       "      <td>0.000116</td>\n",
       "      <td>0.002640</td>\n",
       "      <td>0.002867</td>\n",
       "      <td>0.000601</td>\n",
       "      <td>0.002180</td>\n",
       "      <td>0.002367</td>\n",
       "      <td>0.002094</td>\n",
       "    </tr>\n",
       "    <tr>\n",
       "      <th>7</th>\n",
       "      <td>0.018483</td>\n",
       "      <td>0.012108</td>\n",
       "      <td>0.017222</td>\n",
       "      <td>0.011164</td>\n",
       "      <td>0.014944</td>\n",
       "      <td>0.014411</td>\n",
       "      <td>0.011947</td>\n",
       "      <td>0.010071</td>\n",
       "      <td>0.013295</td>\n",
       "      <td>0.017153</td>\n",
       "      <td>...</td>\n",
       "      <td>0.000206</td>\n",
       "      <td>0.002214</td>\n",
       "      <td>0.002077</td>\n",
       "      <td>0.000127</td>\n",
       "      <td>0.002208</td>\n",
       "      <td>0.002380</td>\n",
       "      <td>0.000398</td>\n",
       "      <td>0.002232</td>\n",
       "      <td>0.002265</td>\n",
       "      <td>0.002043</td>\n",
       "    </tr>\n",
       "    <tr>\n",
       "      <th>8</th>\n",
       "      <td>0.010763</td>\n",
       "      <td>0.011987</td>\n",
       "      <td>0.014513</td>\n",
       "      <td>0.011174</td>\n",
       "      <td>0.015174</td>\n",
       "      <td>0.011860</td>\n",
       "      <td>0.010082</td>\n",
       "      <td>0.010029</td>\n",
       "      <td>0.012718</td>\n",
       "      <td>0.015372</td>\n",
       "      <td>...</td>\n",
       "      <td>0.000304</td>\n",
       "      <td>0.002279</td>\n",
       "      <td>0.002634</td>\n",
       "      <td>0.000143</td>\n",
       "      <td>0.002816</td>\n",
       "      <td>0.002597</td>\n",
       "      <td>0.000448</td>\n",
       "      <td>0.002022</td>\n",
       "      <td>0.002058</td>\n",
       "      <td>0.001111</td>\n",
       "    </tr>\n",
       "    <tr>\n",
       "      <th>9</th>\n",
       "      <td>0.016055</td>\n",
       "      <td>0.012645</td>\n",
       "      <td>0.015113</td>\n",
       "      <td>0.010829</td>\n",
       "      <td>0.015536</td>\n",
       "      <td>0.013683</td>\n",
       "      <td>0.011074</td>\n",
       "      <td>0.010696</td>\n",
       "      <td>0.012516</td>\n",
       "      <td>0.015329</td>\n",
       "      <td>...</td>\n",
       "      <td>0.000218</td>\n",
       "      <td>0.002559</td>\n",
       "      <td>0.002530</td>\n",
       "      <td>0.000143</td>\n",
       "      <td>0.002188</td>\n",
       "      <td>0.002483</td>\n",
       "      <td>0.000457</td>\n",
       "      <td>0.001956</td>\n",
       "      <td>0.001984</td>\n",
       "      <td>0.003611</td>\n",
       "    </tr>\n",
       "  </tbody>\n",
       "</table>\n",
       "<p>10 rows × 138 columns</p>\n",
       "</div>"
      ],
      "text/plain": [
       "       5513        78      4414       336      4442        64      1677  \\\n",
       "0  0.013135  0.012125  0.015394  0.011213  0.016325  0.013867  0.011185   \n",
       "1  0.014232  0.011359  0.021595  0.010525  0.016246  0.013462  0.012946   \n",
       "2  0.013544  0.012103  0.017741  0.012094  0.015870  0.014391  0.012534   \n",
       "3  0.013847  0.012545  0.015872  0.011949  0.016493  0.013771  0.013841   \n",
       "4  0.010348  0.012927  0.014764  0.012095  0.013901  0.014478  0.012647   \n",
       "5  0.013016  0.011839  0.015482  0.011442  0.015425  0.011270  0.012724   \n",
       "6  0.014364  0.012521  0.016390  0.012819  0.015011  0.013701  0.010983   \n",
       "7  0.018483  0.012108  0.017222  0.011164  0.014944  0.014411  0.011947   \n",
       "8  0.010763  0.011987  0.014513  0.011174  0.015174  0.011860  0.010082   \n",
       "9  0.016055  0.012645  0.015113  0.010829  0.015536  0.013683  0.011074   \n",
       "\n",
       "       2394      2283      1925     ...      SNP_2464_2  SNP_2516_0  \\\n",
       "0  0.010275  0.012572  0.016274     ...        0.000245    0.002319   \n",
       "1  0.011482  0.013518  0.016387     ...        0.000178    0.002137   \n",
       "2  0.009937  0.015123  0.015721     ...        0.000211    0.002244   \n",
       "3  0.010467  0.014662  0.012808     ...        0.000193    0.002273   \n",
       "4  0.011731  0.012873  0.015781     ...        0.000000    0.002312   \n",
       "5  0.011116  0.012855  0.014667     ...        0.000223    0.002117   \n",
       "6  0.012244  0.013479  0.013346     ...        0.000116    0.002287   \n",
       "7  0.010071  0.013295  0.017153     ...        0.000206    0.002214   \n",
       "8  0.010029  0.012718  0.015372     ...        0.000304    0.002279   \n",
       "9  0.010696  0.012516  0.015329     ...        0.000218    0.002559   \n",
       "\n",
       "   SNP_2516_1  SNP_2516_2  SNP_81_0  SNP_81_1  SNP_81_2  SNP_1643_0  \\\n",
       "0    0.002410    0.000124  0.002245  0.002137  0.000511    0.002204   \n",
       "1    0.002187    0.000148  0.002448  0.003154  0.000393    0.002229   \n",
       "2    0.002288    0.000130  0.002878  0.002446  0.000374    0.002048   \n",
       "3    0.002145    0.000124  0.002490  0.002566  0.000516    0.002188   \n",
       "4    0.002153    0.000000  0.002421  0.002595  0.000543    0.002216   \n",
       "5    0.002337    0.000172  0.002588  0.002086  0.000570    0.002001   \n",
       "6    0.002293    0.000116  0.002640  0.002867  0.000601    0.002180   \n",
       "7    0.002077    0.000127  0.002208  0.002380  0.000398    0.002232   \n",
       "8    0.002634    0.000143  0.002816  0.002597  0.000448    0.002022   \n",
       "9    0.002530    0.000143  0.002188  0.002483  0.000457    0.001956   \n",
       "\n",
       "   SNP_1643_1  SNP_1643_2  \n",
       "0    0.002185    0.003142  \n",
       "1    0.002061    0.001868  \n",
       "2    0.002438    0.001714  \n",
       "3    0.002258    0.002147  \n",
       "4    0.002278    0.001218  \n",
       "5    0.002284    0.002762  \n",
       "6    0.002367    0.002094  \n",
       "7    0.002265    0.002043  \n",
       "8    0.002058    0.001111  \n",
       "9    0.001984    0.003611  \n",
       "\n",
       "[10 rows x 138 columns]"
      ]
     },
     "execution_count": 22,
     "metadata": {},
     "output_type": "execute_result"
    }
   ],
   "source": [
    "df"
   ]
  },
  {
   "cell_type": "code",
   "execution_count": 23,
   "metadata": {},
   "outputs": [],
   "source": [
    "# Train new regressor with only SNPs found to be important (25) within TFs added as input\n",
    "#\n",
    "#"
   ]
  },
  {
   "cell_type": "code",
   "execution_count": 24,
   "metadata": {},
   "outputs": [],
   "source": [
    "np.random.seed(1000)"
   ]
  },
  {
   "cell_type": "code",
   "execution_count": 25,
   "metadata": {},
   "outputs": [],
   "source": [
    "genotypes_hotcoded_snps_important = pd.read_csv(\"../matrix_genotypes_hotcoded_snps_only_important.csv\").set_index('CONDITION')"
   ]
  },
  {
   "cell_type": "code",
   "execution_count": 26,
   "metadata": {},
   "outputs": [
    {
     "name": "stdout",
     "output_type": "stream",
     "text": [
      "Index(['1_1_d', '1_3_d', '1_4_d', '1_5_c', '2_2_d', '2_3_d', '2_4_a', '2_5_d',\n",
      "       '2_6_d', '3_1_d',\n",
      "       ...\n",
      "       '22_4_d', '22_5_d', '23_3_d', '23_5_d', '24_1_d', '25_1_d', '25_3_d',\n",
      "       '25_4_d', '26_1_d', '26_2_d'],\n",
      "      dtype='object', length=112)\n",
      "Index(['1_1_d', '1_3_d', '1_4_d', '1_5_c', '2_2_d', '2_3_d', '2_4_a', '2_5_d',\n",
      "       '2_6_d', '3_1_d',\n",
      "       ...\n",
      "       '22_4_d', '22_5_d', '23_3_d', '23_5_d', '24_1_d', '25_1_d', '25_3_d',\n",
      "       '25_4_d', '26_1_d', '26_2_d'],\n",
      "      dtype='object', length=112)\n"
     ]
    }
   ],
   "source": [
    "TF_SNP_important = pd.concat([TF_expression_matrix, genotypes_hotcoded_snps_important], axis=1).reindex(TF_expression_matrix.index)\n",
    "print(TF_SNP_important.index)\n",
    "print(TF_expression_matrix.index)"
   ]
  },
  {
   "cell_type": "code",
   "execution_count": 27,
   "metadata": {},
   "outputs": [],
   "source": [
    "TF_SNP_important_RF = RandomForestRegressor(max_depth=10, n_estimators=2000, n_jobs=-1)"
   ]
  },
  {
   "cell_type": "code",
   "execution_count": 28,
   "metadata": {},
   "outputs": [],
   "source": [
    "#kf3 = KFold(n_splits=10, shuffle=True)\n",
    "#kf3.get_n_splits(TF_SNP_important)\n",
    "kf3=kf"
   ]
  },
  {
   "cell_type": "code",
   "execution_count": 29,
   "metadata": {},
   "outputs": [
    {
     "name": "stdout",
     "output_type": "stream",
     "text": [
      "0.1253099546934164\n",
      "0.05406039738297309\n",
      "0.07460014429380975\n",
      "0.1822697478080574\n",
      "0.12827642505334025\n",
      "0.031036280222506197\n",
      "0.18227537699125795\n",
      "0.08276009141919154\n",
      "0.0032847040750725296\n",
      "0.10667577662159858\n"
     ]
    }
   ],
   "source": [
    "TF_SNP_important_RF_score = []\n",
    "\n",
    "for train_index3, test_index3 in kf3.split(TF_SNP_important):\n",
    "    X_train3, X_test3 = TF_SNP_important.iloc[train_index3], TF_SNP_important.iloc[test_index3]\n",
    "    y_train3, y_test3 = target_expression_matrix.iloc[train_index3], target_expression_matrix.iloc[test_index3]\n",
    "    TF_SNP_important_RF.fit(X_train3, y_train3)\n",
    "    print(TF_SNP_important_RF.score(X_test3,y_test3))\n",
    "    TF_SNP_important_RF_score.append(TF_SNP_important_RF.score(X_test3,y_test3))"
   ]
  },
  {
   "cell_type": "code",
   "execution_count": 31,
   "metadata": {},
   "outputs": [
    {
     "data": {
      "text/plain": [
       "0.09705488985612234"
      ]
     },
     "execution_count": 31,
     "metadata": {},
     "output_type": "execute_result"
    }
   ],
   "source": [
    "sum(TF_SNP_important_RF_score)/10"
   ]
  },
  {
   "cell_type": "code",
   "execution_count": null,
   "metadata": {},
   "outputs": [],
   "source": []
  }
 ],
 "metadata": {
  "kernelspec": {
   "display_name": "Python 3",
   "language": "python",
   "name": "python3"
  },
  "language_info": {
   "codemirror_mode": {
    "name": "ipython",
    "version": 3
   },
   "file_extension": ".py",
   "mimetype": "text/x-python",
   "name": "python",
   "nbconvert_exporter": "python",
   "pygments_lexer": "ipython3",
   "version": "3.6.5"
  }
 },
 "nbformat": 4,
 "nbformat_minor": 2
}
